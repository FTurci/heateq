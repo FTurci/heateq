{
 "cells": [
  {
   "cell_type": "markdown",
   "metadata": {},
   "source": [
    "# Simple solver for the heat equation\n",
    "\n",
    "We solve the heat equation in two-dimensions for $N$ hot circles \n",
    "\n",
    "$$\\frac{\\partial u}{\\partial t}=\\alpha\\left(\\frac{\\partial^2 u}{\\partial x^2}+\\frac{\\partial^2 u}{\\partial y^2}\\right) $$\n",
    "\n",
    "We use **finite differences** for our discretisation scheme."
   ]
  },
  {
   "cell_type": "code",
   "execution_count": 1,
   "metadata": {},
   "outputs": [],
   "source": [
    "# for the animated plots\n",
    "%matplotlib tk\n",
    "\n",
    "import spheres\n",
    "\n",
    "hot_spheres = spheres.HotSpheres(N=1,r=0.6,Thot=230,Tcold=220)\n",
    "hot_spheres.display();"
   ]
  },
  {
   "cell_type": "code",
   "execution_count": null,
   "metadata": {},
   "outputs": [],
   "source": []
  }
 ],
 "metadata": {
  "kernelspec": {
   "display_name": "Python 3 (ipykernel)",
   "language": "python",
   "name": "python3"
  },
  "language_info": {
   "codemirror_mode": {
    "name": "ipython",
    "version": 3
   },
   "file_extension": ".py",
   "mimetype": "text/x-python",
   "name": "python",
   "nbconvert_exporter": "python",
   "pygments_lexer": "ipython3",
   "version": "3.11.1"
  }
 },
 "nbformat": 4,
 "nbformat_minor": 2
}
